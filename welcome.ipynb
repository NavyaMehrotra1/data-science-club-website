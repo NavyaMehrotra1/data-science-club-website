{
  "metadata": {
    "kernelspec": {
      "name": "python",
      "display_name": "Python (Pyodide)",
      "language": "python"
    },
    "language_info": {
      "codemirror_mode": {
        "name": "python",
        "version": 3
      },
      "file_extension": ".py",
      "mimetype": "text/x-python",
      "name": "python",
      "nbconvert_exporter": "python",
      "pygments_lexer": "ipython3",
      "version": "3.8"
    }
  },
  "nbformat_minor": 5,
  "nbformat": 4,
  "cells": [
    {
      "id": "52b492c6-8aff-468a-bcff-0ffa32368946",
      "cell_type": "code",
      "source": "# Welcome to Hopkins Data Science Club! 🎉\n\nWe run hands-on **workshops** and **weekly data labs** where you’ll learn Python, machine learning, and data analysis by building real projects.  \n\nEach week, we work on themed projects like **Data Science in Medicine** or **Financial Markets**\n                                                                              \nJoin us to gain practical skills, work with real datasets, and showcase your code and results!\n\nReady to code and solve real problems? Let’s get started! \n",
      "metadata": {
        "trusted": true
      },
      "outputs": [],
      "execution_count": null
    }
  ]
}